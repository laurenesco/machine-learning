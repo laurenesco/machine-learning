{
 "cells": [
  {
   "cell_type": "markdown",
   "id": "57a8cbb4-a309-4b52-8592-d09cdd92ac07",
   "metadata": {},
   "source": [
    "$$ h_S(x) = \\begin{cases} \n",
    "            y_i\\quad if\\;\\exists\\;i\\;\\in\\;[m]\\;s.t.\\;x_i\\;=\\;x \\\\\n",
    "            0\\quad otherwise \n",
    "            \\end{cases}\n",
    "$$"
   ]
  },
  {
   "cell_type": "markdown",
   "id": "69714568-0abe-4dee-8f39-755adae1aa24",
   "metadata": {},
   "source": [
    "$ L_{(D,f)}(h*) = 0 $"
   ]
  },
  {
   "cell_type": "markdown",
   "id": "1da9ef9a-c6a2-4f4b-a3af-8c63d726d04a",
   "metadata": {},
   "source": [
    "$$ M = \\bigcup_{h \\epsilon H_B} {S|x\\;:\\;L_S(h)\\;=\\;0} $$"
   ]
  },
  {
   "cell_type": "markdown",
   "id": "27ff3488-28ec-482c-812d-9c146b344c70",
   "metadata": {},
   "source": [
    "$ D^m = (\\{h \\in H : L_{(D, f)}(h) > \\epsilon\\}) $"
   ]
  },
  {
   "cell_type": "markdown",
   "id": "59e08429-65e6-4628-8c83-3d1874de4079",
   "metadata": {},
   "source": [
    "$$ L_S(h) = \\sum_{i=1}^{d} l(h, z_i) $$"
   ]
  }
 ],
 "metadata": {
  "kernelspec": {
   "display_name": "Python 3 (ipykernel)",
   "language": "python",
   "name": "python3"
  },
  "language_info": {
   "codemirror_mode": {
    "name": "ipython",
    "version": 3
   },
   "file_extension": ".py",
   "mimetype": "text/x-python",
   "name": "python",
   "nbconvert_exporter": "python",
   "pygments_lexer": "ipython3",
   "version": "3.10.13"
  }
 },
 "nbformat": 4,
 "nbformat_minor": 5
}
