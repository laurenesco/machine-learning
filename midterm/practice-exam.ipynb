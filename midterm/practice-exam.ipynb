{
 "cells": [
  {
   "cell_type": "markdown",
   "id": "bcf57724-149d-45d8-bb72-52526b74df39",
   "metadata": {},
   "source": [
    "## Question 1\n",
    "\n",
    "**Question:** Devise the update rule for minimizing $f(x)=(max⁡(0,x)−12)2f(x)=(max(0,x)−21​)2$ using gradient descent. Roughly, when will gradient descent succeed or fail (based on where you start and step size)?\n",
    "\n",
    "<details>\n",
    "<summary><strong>Answer</strong></summary>\n",
    "\n",
    "The key difference is that supervised learning uses labeled data, while unsupervised learning does not use labeled data.\n",
    "\n",
    "</details>"
   ]
  },
  {
   "cell_type": "markdown",
   "id": "2798e746-6af7-4331-aed9-526de9450ae7",
   "metadata": {},
   "source": [
    "## Question 2\n",
    "\n",
    "**Question:** Given a data set $A$, under what circumstances will its projection onto its principal components equal its projection onto its right singular vectors and left singular vectors\n",
    "\n",
    "<details>\n",
    "<summary><strong>Answer</strong></summary>\n",
    "\n",
    "Answer details\n",
    "\n",
    "</details>"
   ]
  },
  {
   "cell_type": "markdown",
   "id": "4b546380-a6d7-40cf-93c6-7f17374bf8c7",
   "metadata": {},
   "source": [
    "## Question 3\n",
    "\n",
    "**Question:** Let $S$ be a set of documents and let $T$ be a set of terms. Suppose that $C$ is a binary term-document incidence matrix (so entry ($i$,$j$) is a 1 if term $i$ appears in document $j$ and 0 otherwise). What do the entries of $CTCCTC$ represent?\n",
    "\n",
    "<details>\n",
    "<summary><strong>Answer</strong></summary>\n",
    "\n",
    "Answer details\n",
    "\n",
    "</details>"
   ]
  },
  {
   "cell_type": "markdown",
   "id": "dddfe647-1cb6-4957-ad5a-ea44ed6325eb",
   "metadata": {},
   "source": [
    "## Question 4\n",
    "\n",
    "**Question:** How did we derive the equations for simple linear regression from class?\n",
    "\n",
    "<details>\n",
    "<summary><strong>Answer</strong></summary>\n",
    "\n",
    "Answer details\n",
    "\n",
    "</details>"
   ]
  },
  {
   "cell_type": "markdown",
   "id": "0075c3b6-255d-4895-8fd9-70d99324f688",
   "metadata": {},
   "source": [
    "## Question 5\n",
    "\n",
    "**Question:** Why can you assume without loss of generality that a mistake-bounded learner only updates its state when it makes a mistake?\n",
    "\n",
    "<details>\n",
    "<summary><strong>Answer</strong></summary>\n",
    "\n",
    "Answer details\n",
    "\n",
    "</details>"
   ]
  },
  {
   "cell_type": "markdown",
   "id": "dd369ec9-476b-481a-b923-e00f1f6b9ad3",
   "metadata": {},
   "source": [
    "## Question 6\n",
    "\n",
    "**Question:** You are given a data set with m points and an algorithm that satisfies the weak-learning condition (it always outputs a classifier with accuracy 60%). Each classifier output by the weak-learning algorithm can be encoded using two bits. How can you construct a classifier that can be described by less than m bits and is correct on every data point in the data set (you may assume m is very large). What is the size of your final classifier?\n",
    "\n",
    "<details>\n",
    "<summary><strong>Answer</strong></summary>\n",
    "\n",
    "Answer details\n",
    "\n",
    "</details>"
   ]
  },
  {
   "cell_type": "markdown",
   "id": "082ace1e-fe77-43a5-b974-ea22d4c09b49",
   "metadata": {},
   "source": [
    "## Question 7\n",
    "\n",
    "**Question:** How can you compare Markov’s inequality, Chebyshev’s inequality, and the Chernoff bound?\n",
    "\n",
    "<details>\n",
    "<summary><strong>Answer</strong></summary>\n",
    "\n",
    "Answer details\n",
    "\n",
    "</details>"
   ]
  }
 ],
 "metadata": {
  "kernelspec": {
   "display_name": "Python 3 (ipykernel)",
   "language": "python",
   "name": "python3"
  },
  "language_info": {
   "codemirror_mode": {
    "name": "ipython",
    "version": 3
   },
   "file_extension": ".py",
   "mimetype": "text/x-python",
   "name": "python",
   "nbconvert_exporter": "python",
   "pygments_lexer": "ipython3",
   "version": "3.10.13"
  }
 },
 "nbformat": 4,
 "nbformat_minor": 5
}
