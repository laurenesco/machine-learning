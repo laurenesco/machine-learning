{
 "cells": [
  {
   "cell_type": "markdown",
   "id": "6be158dc-a876-43cb-9c39-279dd11cea45",
   "metadata": {},
   "source": [
    "# Title #"
   ]
  },
  {
   "cell_type": "markdown",
   "id": "1f41c711-1504-4cd0-93a3-aa8a6963a859",
   "metadata": {},
   "source": [
    "## ***Vocabulary***"
   ]
  },
  {
   "cell_type": "markdown",
   "id": "d36ceb54-7137-431e-8ae1-1053d0f2bcbe",
   "metadata": {},
   "source": []
  },
  {
   "cell_type": "markdown",
   "id": "7dc47029-8dd1-4934-8f85-9487837b1e2c",
   "metadata": {},
   "source": [
    "# Lecture Notes #"
   ]
  },
  {
   "cell_type": "markdown",
   "id": "641eb618-a347-4dd5-bb64-a4efac8cacf4",
   "metadata": {},
   "source": [
    "## ***Section 1***"
   ]
  },
  {
   "cell_type": "markdown",
   "id": "d7e2ec31-1e8c-44c3-bb67-c6f2b821879c",
   "metadata": {},
   "source": [
    "#### **Subsection 1**\n",
    "\n",
    "...\n",
    "\n",
    "#### **Subsection 2**\n",
    "\n",
    "...\n",
    "\n",
    "#### **Subsection 3**\n",
    "\n",
    "etc."
   ]
  },
  {
   "cell_type": "markdown",
   "id": "bb3ed5cd-43a9-4384-be36-0a59ee244e86",
   "metadata": {},
   "source": [
    "## ***Section 2***"
   ]
  },
  {
   "cell_type": "markdown",
   "id": "10fb82a9-1780-4c14-9406-a59c82ba1d90",
   "metadata": {},
   "source": []
  },
  {
   "cell_type": "markdown",
   "id": "30eefce1-6926-4e40-bb51-c850c23f3208",
   "metadata": {},
   "source": [
    "## ***Section 3***"
   ]
  },
  {
   "cell_type": "markdown",
   "id": "47367318-9c44-41f9-acd7-2a9cdf4fb012",
   "metadata": {},
   "source": []
  },
  {
   "cell_type": "markdown",
   "id": "21b538c2-528f-40e5-8724-e72f30fd0036",
   "metadata": {},
   "source": [
    "## ***Section 4***"
   ]
  },
  {
   "cell_type": "markdown",
   "id": "c0b3cf0c-981e-45cf-aa6b-ffa3d7783401",
   "metadata": {},
   "source": []
  },
  {
   "cell_type": "markdown",
   "id": "a08f06ab-f3bb-472a-b95c-591d64b61762",
   "metadata": {},
   "source": [
    "## ***Section 5***"
   ]
  },
  {
   "cell_type": "markdown",
   "id": "a421b457-b9cc-480e-9d5d-e1d610384235",
   "metadata": {},
   "source": []
  },
  {
   "cell_type": "markdown",
   "id": "dc478fde-bbf2-433e-af53-7f2f12ee47fd",
   "metadata": {},
   "source": [
    "## ***Section 6***"
   ]
  },
  {
   "cell_type": "markdown",
   "id": "c093a1bd-6d19-4c1c-b80f-ce2b3af34b9a",
   "metadata": {},
   "source": []
  },
  {
   "cell_type": "markdown",
   "id": "cfd7fd67-696a-40a3-9e6d-00ca9e6ddd04",
   "metadata": {},
   "source": [
    "# Personal Notes #"
   ]
  },
  {
   "cell_type": "markdown",
   "id": "36ce61fc-115c-4357-a766-7faec52d2284",
   "metadata": {},
   "source": []
  }
 ],
 "metadata": {
  "kernelspec": {
   "display_name": "Python 3 (ipykernel)",
   "language": "python",
   "name": "python3"
  },
  "language_info": {
   "codemirror_mode": {
    "name": "ipython",
    "version": 3
   },
   "file_extension": ".py",
   "mimetype": "text/x-python",
   "name": "python",
   "nbconvert_exporter": "python",
   "pygments_lexer": "ipython3",
   "version": "3.10.13"
  }
 },
 "nbformat": 4,
 "nbformat_minor": 5
}
