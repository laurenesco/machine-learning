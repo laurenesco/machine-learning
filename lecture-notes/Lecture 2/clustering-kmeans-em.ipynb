{
 "cells": [
  {
   "cell_type": "markdown",
   "id": "6be158dc-a876-43cb-9c39-279dd11cea45",
   "metadata": {},
   "source": [
    "# Clustering, K-means, Expectation Maximization"
   ]
  },
  {
   "cell_type": "markdown",
   "id": "1f41c711-1504-4cd0-93a3-aa8a6963a859",
   "metadata": {},
   "source": [
    "## ***Vocabulary***"
   ]
  },
  {
   "cell_type": "markdown",
   "id": "d36ceb54-7137-431e-8ae1-1053d0f2bcbe",
   "metadata": {},
   "source": [
    "na"
   ]
  },
  {
   "cell_type": "markdown",
   "id": "7dc47029-8dd1-4934-8f85-9487837b1e2c",
   "metadata": {},
   "source": [
    "# Lecture Notes #"
   ]
  },
  {
   "cell_type": "markdown",
   "id": "641eb618-a347-4dd5-bb64-a4efac8cacf4",
   "metadata": {},
   "source": [
    "## ***Part I***"
   ]
  },
  {
   "cell_type": "markdown",
   "id": "d7e2ec31-1e8c-44c3-bb67-c6f2b821879c",
   "metadata": {},
   "source": [
    "### **Clustering**\n",
    "\n",
    "Clustering is an important **unsupervised** learning task. The **goal** is to partition the dataset into similar groups. **Use cases** include categorizing news stories for easier sorting and locating by readers, or discovering distinct groups in a customer base for marketing campaigns.\n",
    "\n",
    "### **K-means Algorithm**\n",
    "\n",
    "#### **Context for K-means**\n",
    "<br>\n",
    "<center>\n",
    "    <img width=\"60%\" src=\"images/2.3.1.png\" alt=\"Professor Notes\" />\n",
    "</center>\n",
    "<br>\n",
    "\n",
    "K-means takes $n$ objects, where each $x_i$ could be a vector itself where each coordinate represents different information. For example, $x_i^1$ might represent the dollars this particular customer spends on electronics, whereas $x_i^2$ might represent dollars spent by this customer in another category. \n",
    "\n",
    "We also have $K$, which is the number of clusters we want to partition the data points into. $K$ must be given in K-means algorithm, so if you don't know the best $K$, you will have to experiment and choose the best one. There are also data driving approaches that allows us to estimate the best $K$ automatically, however these appraoches will not be covered in class. \n",
    "\n",
    "With the data and $K$ given, we want to decide how to partition the data. We also want to determine a centroid for each of the clusters. The **centroid** is the representative data point for each cluster. Empirically, the centroid will be the average or geometric center within the cluster.\n",
    "\n",
    "#### **Goal of K-means**\n",
    "**So, the K-means algorithm must jointly determine the assignment and the centroids that provides and optimal partition of the data.**\n",
    "\n",
    "#### **High Level Algorithm**\n",
    "\n"
   ]
  },
  {
   "cell_type": "markdown",
   "id": "bb3ed5cd-43a9-4384-be36-0a59ee244e86",
   "metadata": {},
   "source": [
    "## ***Section 2***"
   ]
  },
  {
   "cell_type": "markdown",
   "id": "10fb82a9-1780-4c14-9406-a59c82ba1d90",
   "metadata": {},
   "source": []
  },
  {
   "cell_type": "markdown",
   "id": "30eefce1-6926-4e40-bb51-c850c23f3208",
   "metadata": {},
   "source": [
    "## ***Section 3***"
   ]
  },
  {
   "cell_type": "markdown",
   "id": "47367318-9c44-41f9-acd7-2a9cdf4fb012",
   "metadata": {},
   "source": []
  },
  {
   "cell_type": "markdown",
   "id": "21b538c2-528f-40e5-8724-e72f30fd0036",
   "metadata": {},
   "source": [
    "## ***Section 4***"
   ]
  },
  {
   "cell_type": "markdown",
   "id": "c0b3cf0c-981e-45cf-aa6b-ffa3d7783401",
   "metadata": {},
   "source": []
  },
  {
   "cell_type": "markdown",
   "id": "a08f06ab-f3bb-472a-b95c-591d64b61762",
   "metadata": {},
   "source": [
    "## ***Section 5***"
   ]
  },
  {
   "cell_type": "markdown",
   "id": "a421b457-b9cc-480e-9d5d-e1d610384235",
   "metadata": {},
   "source": []
  },
  {
   "cell_type": "markdown",
   "id": "dc478fde-bbf2-433e-af53-7f2f12ee47fd",
   "metadata": {},
   "source": [
    "## ***Section 6***"
   ]
  },
  {
   "cell_type": "markdown",
   "id": "c093a1bd-6d19-4c1c-b80f-ce2b3af34b9a",
   "metadata": {},
   "source": []
  },
  {
   "cell_type": "markdown",
   "id": "cfd7fd67-696a-40a3-9e6d-00ca9e6ddd04",
   "metadata": {},
   "source": [
    "# Personal Notes #"
   ]
  },
  {
   "cell_type": "markdown",
   "id": "36ce61fc-115c-4357-a766-7faec52d2284",
   "metadata": {},
   "source": []
  }
 ],
 "metadata": {
  "kernelspec": {
   "display_name": "Python 3 (ipykernel)",
   "language": "python",
   "name": "python3"
  },
  "language_info": {
   "codemirror_mode": {
    "name": "ipython",
    "version": 3
   },
   "file_extension": ".py",
   "mimetype": "text/x-python",
   "name": "python",
   "nbconvert_exporter": "python",
   "pygments_lexer": "ipython3",
   "version": "3.10.13"
  }
 },
 "nbformat": 4,
 "nbformat_minor": 5
}
