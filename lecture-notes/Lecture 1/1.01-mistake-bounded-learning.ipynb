{
 "cells": [
  {
   "cell_type": "markdown",
   "id": "6be158dc-a876-43cb-9c39-279dd11cea45",
   "metadata": {},
   "source": [
    "# Mistake Bounded Learning"
   ]
  },
  {
   "cell_type": "markdown",
   "id": "1f41c711-1504-4cd0-93a3-aa8a6963a859",
   "metadata": {},
   "source": [
    "## ***Vocabulary***"
   ]
  },
  {
   "cell_type": "markdown",
   "id": "d36ceb54-7137-431e-8ae1-1053d0f2bcbe",
   "metadata": {},
   "source": [
    "none yet"
   ]
  },
  {
   "cell_type": "markdown",
   "id": "7dc47029-8dd1-4934-8f85-9487837b1e2c",
   "metadata": {},
   "source": [
    "# Lecture Notes #"
   ]
  },
  {
   "cell_type": "markdown",
   "id": "641eb618-a347-4dd5-bb64-a4efac8cacf4",
   "metadata": {},
   "source": [
    "## ***Introduction***"
   ]
  },
  {
   "cell_type": "markdown",
   "id": "d7e2ec31-1e8c-44c3-bb67-c6f2b821879c",
   "metadata": {},
   "source": [
    "#### **Learner, Teacher, and Update Rule**\n",
    "\n",
    "Imagine a program that filters spam emails, and has an iron-clad guaranteee that it will only make 100 mistakes, even when your inbox has 30,000+ emails. This is called the mistake-bounded model of learning.\n",
    "\n",
    "**Learner**\n",
    "- Takes in samples (data points), and responds with its guess for the samples classification.\n",
    "\n",
    "**Teacher**\n",
    "- Responds to the classification guess with whether the guess was correct or incorrect.\n",
    "\n",
    "**Update Rule**\n",
    "- When the teacher tells the learner that it made a mistake, a counter for the number of mistakes increases by one. However, when the learner makes a mistake, it also learns from the mistake, updating its internal state.\n",
    "\n",
    "\\\n",
    "We say a Learner has mistake-bound $t$ if for every sequence of challenges, the learner makes at most $t$ mistakes.\n",
    "\n",
    "<br>\n",
    "<center>\n",
    "    <img src=\"images/1.1.1.png\" alt=\"Professor Notes\" />\n",
    "</center>\n",
    "<br>\n",
    "\n",
    "#### **Function Class Introduction**\n",
    "\n",
    "Let's introduce a function class called $\\mathcal{C}$, which is the function class of all monotone disjunctions:\n",
    "\n",
    "$$ \\mathcal{C} = \\{Monotone\\;Disjunctions\\;on\\;n\\;variables\\} $$\n",
    "\n",
    "And our domain, $\\mathcal{D}$, consists of bit strings of length $n$:\n",
    "\n",
    "$$ \\mathcal{D} = \\{0,1\\}^n $$\n",
    "\n",
    "Some examples of functions in $\\mathcal{C}$:\n",
    "\n",
    "$$f(x) = x_1 \\lor x_3 $$\n",
    "\n",
    "$$ f(x) = x_1 \\lor x_5 \\lor x_7 $$"
   ]
  },
  {
   "cell_type": "markdown",
   "id": "bb3ed5cd-43a9-4384-be36-0a59ee244e86",
   "metadata": {},
   "source": [
    "## ***Monotone Disjunctions***"
   ]
  },
  {
   "cell_type": "markdown",
   "id": "10fb82a9-1780-4c14-9406-a59c82ba1d90",
   "metadata": {},
   "source": [
    "#### **Mistake Bounded Model Example**\n",
    "\n",
    "Let us fix $f \\in \\mathcal{C}$, and the learner **does not** know $f$. The learner is trying to learn $f$, so it will guess 0 or 1, and the teacher will respond with correct if the guess equals $f(x)$, or will respond mistake otherwise.\n",
    "\n",
    "No matter if the guess was correct or not, the learner learns something after each challenge. \n",
    "\n",
    "***Question: How can we come up with learner/algorithm that has mistake bound $n$?***\n",
    "\n",
    "In this case, we will start with some monotone disjunction as our initial state. Each time we guess a mistake, we will update our monotone disjunction so it is consistent with what we've seen.\n",
    "\n",
    "We will start with the learner using monotone disjunction: $x_1 \\lor x_2 \\lor \\dots \\lor x_n$ as its initial state. After each mistake, the learner will update its state to be consistent with the seen data. \n",
    "\n",
    "With each mistake, we will be able to eliminate at least one literal from our monotone disjunction. There are at most $n$ literals, which implies that the number of mistakes is at most $n$.\n",
    "\n",
    "\n",
    "<br>\n",
    "<center>\n",
    "    <img src=\"images/1.1.2.png\" alt=\"Professor Notes\" />\n",
    "</center>\n",
    "<br>"
   ]
  },
  {
   "cell_type": "markdown",
   "id": "30eefce1-6926-4e40-bb51-c850c23f3208",
   "metadata": {},
   "source": [
    "## ***Disjunctions***"
   ]
  },
  {
   "cell_type": "markdown",
   "id": "47367318-9c44-41f9-acd7-2a9cdf4fb012",
   "metadata": {},
   "source": [
    "#### **Updating to a More Interesting Function Class**\n",
    "\n",
    "Let's udpate our function class $\\mathcal{C}$, to be the function class of all disjunctions:\n",
    "\n",
    "$$ \\mathcal{C} = \\{Disjunctions\\} $$\n",
    "\n",
    "And our domain, $\\mathcal{D}$, consists of bit strings of length $n$:\n",
    "\n",
    "$$ \\mathcal{D} = \\{0,1\\}^n $$\n",
    "\n",
    "We can now have negations in our disjunction. Some examples of functions in the new $\\mathcal{C}$:\n",
    "\n",
    "$$ f(x) = x_1 \\lor \\bar{x_2} \\lor x_5 \\lor \\bar{x_7} $$\n",
    "\n",
    "***Question: How can we use the algorithm for monotone disjunctions to learn disjunctions?***\n",
    "\n",
    "We will be performing something called \"feature expansion\", where we take a bit string of length $n$, and map it to a new string of length $2n$:\n",
    "\n",
    "$$ x_1, \\dots, x_n \\mapsto x_1, \\dots, x_n, y_1, \\dots, y_n $$\n",
    "\n",
    "Where each $y_i = \\bar{x_i}$, the $y_i$ equals the negation of that $x_1$.\n",
    "\n",
    "Thus, each $f(x_1, \\dots, x_n)$ can be rewritten as a new function $f(x_1, \\dots, x_n, y_1, \\dots, y_n)$, that will behave the same:\n",
    "\n",
    "$$f(x_1, \\dots, x_n) = x_2 \\lor \\bar{x_4} \\lor x_7 $$\n",
    "\n",
    "$$f(x_1, \\dots, x_n, y_1, \\dots, y_n) = x_2 \\lor y_4 \\lor x_7 $$\n",
    "\n",
    "<br>\n",
    "<center>\n",
    "    <img src=\"images/1.1.3.png\" alt=\"Professor Notes\" />\n",
    "</center>\n",
    "<br>\n",
    "\n",
    "We now have a new algorithm for arbitrary disjunctions with mistake bound $ \\le 2n$."
   ]
  },
  {
   "cell_type": "markdown",
   "id": "cfd7fd67-696a-40a3-9e6d-00ca9e6ddd04",
   "metadata": {},
   "source": [
    "# Personal Notes #"
   ]
  },
  {
   "cell_type": "markdown",
   "id": "36ce61fc-115c-4357-a766-7faec52d2284",
   "metadata": {},
   "source": []
  }
 ],
 "metadata": {
  "kernelspec": {
   "display_name": "Python 3 (ipykernel)",
   "language": "python",
   "name": "python3"
  },
  "language_info": {
   "codemirror_mode": {
    "name": "ipython",
    "version": 3
   },
   "file_extension": ".py",
   "mimetype": "text/x-python",
   "name": "python",
   "nbconvert_exporter": "python",
   "pygments_lexer": "ipython3",
   "version": "3.10.13"
  }
 },
 "nbformat": 4,
 "nbformat_minor": 5
}
